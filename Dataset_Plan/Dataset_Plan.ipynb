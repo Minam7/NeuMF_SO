{
 "cells": [
  {
   "cell_type": "markdown",
   "metadata": {},
   "source": [
    "# CMPT 898 \n",
    "**__Neural Collaborative Filtering for Expert Recommendation__**\n",
    "\n",
    "\n",
    "**Dataset Plan**\n",
    "\n",
    "\n",
    "* Seyedeh Mina Mousavifar\n",
    "* 11279515\n",
    "* sem311"
   ]
  },
  {
   "cell_type": "markdown",
   "metadata": {},
   "source": [
    "# Dataset Collection"
   ]
  },
  {
   "cell_type": "markdown",
   "metadata": {},
   "source": [
    "## Gathering Data from Server\n",
    "\n",
    "These are SQL queries that provide us the required datasets."
   ]
  },
  {
   "cell_type": "code",
   "execution_count": null,
   "metadata": {},
   "outputs": [],
   "source": [
    "# select activities of the best users\n",
    "select * from Posts where OwnerUserId in (\n",
    "    select Id from Users where Reputation > 320000)\n",
    "\n",
    "# select questions that those users answered\n",
    "select * from Posts where Id in (\n",
    "    select ParentId from Posts where OwnerUserId in (\n",
    "        select Id from Users where (\n",
    "            Reputation > 575000 and Reputation < 595000)))\n",
    "\n",
    "# select badges of the best users\n",
    "select count(*) from Badges where UserId in (\n",
    "    select Id from Users where Reputation > 320000)"
   ]
  },
  {
   "cell_type": "markdown",
   "metadata": {},
   "source": [
    "## Loading Data"
   ]
  },
  {
   "cell_type": "code",
   "execution_count": null,
   "metadata": {},
   "outputs": [],
   "source": [
    "import pandas as pd\n",
    "import glob\n",
    "\n",
    "# load questions\n",
    "path = \"data/Questions\"\n",
    "all_questions = glob.glob(path + \"/*.csv\")\n",
    "\n",
    "question_list = []\n",
    "\n",
    "for question in all_questions:\n",
    "    q = pd.read_csv(question, index_col=None, low_memory=False)\n",
    "    question_list.append(q)\n",
    "\n",
    "questions = pd.concat(question_list, axis=0, ignore_index=True)"
   ]
  },
  {
   "cell_type": "code",
   "execution_count": null,
   "metadata": {},
   "outputs": [],
   "source": [
    "# load answers\n",
    "path = \"data/Posts\"\n",
    "all_answers = glob.glob(path + \"/*.csv\")\n",
    "\n",
    "answer_list = []\n",
    "\n",
    "for answer in all_answers:\n",
    "    a = pd.read_csv(answer, index_col=None, low_memory=False)\n",
    "    answer_list.append(a)\n",
    "\n",
    "answers = pd.concat(answer_list, axis=0, ignore_index=True)"
   ]
  },
  {
   "cell_type": "markdown",
   "metadata": {},
   "source": [
    "Answers are the activities of our selected users. This data is a mixture of answers and questions that belong to these selected users. In order to sepreate questions and answers, we have to find the items that have $PostTypeId = 1$ and concat them to the questions dataset. "
   ]
  },
  {
   "cell_type": "code",
   "execution_count": null,
   "metadata": {},
   "outputs": [],
   "source": [
    "questions_post = answers[answers['PostTypeId'] == 1]\n",
    "answers = answers[answers['PostTypeId'] != 1]\n",
    "\n",
    "questions = pd.concat([questions, questions_post], axis=0, ignore_index=True)"
   ]
  },
  {
   "cell_type": "code",
   "execution_count": null,
   "metadata": {},
   "outputs": [],
   "source": [
    "questions.to_csv(\"data/Questions.csv\")\n",
    "answers.to_csv(\"data/Answers.csv\")"
   ]
  },
  {
   "cell_type": "code",
   "execution_count": null,
   "metadata": {},
   "outputs": [],
   "source": [
    "# load badges\n",
    "path = \"data/Badges\"\n",
    "all_badges = glob.glob(path + \"/*.csv\")\n",
    "\n",
    "badge_list = []\n",
    "\n",
    "for badge in all_badges:\n",
    "    a = pd.read_csv(badge, index_col=None, low_memory=False)\n",
    "    badge_list.append(a)\n",
    "\n",
    "badges = pd.concat(badge_list, axis=0, ignore_index=True)"
   ]
  },
  {
   "cell_type": "code",
   "execution_count": null,
   "metadata": {},
   "outputs": [],
   "source": [
    "badges.to_csv(\"data/Badges.csv\")"
   ]
  },
  {
   "cell_type": "markdown",
   "metadata": {},
   "source": [
    "# Exploration\n",
    "\n",
    "The following document includes exploration on *Questions*, *Answers*, *Users*, and *Badges*."
   ]
  },
  {
   "cell_type": "code",
   "execution_count": 154,
   "metadata": {},
   "outputs": [],
   "source": [
    "import pandas as pd"
   ]
  },
  {
   "cell_type": "markdown",
   "metadata": {},
   "source": [
    "## Questions Exploration"
   ]
  },
  {
   "cell_type": "code",
   "execution_count": 155,
   "metadata": {},
   "outputs": [],
   "source": [
    "questions = pd.read_csv('data/Questions.csv').drop(['Unnamed: 0'], 1)"
   ]
  },
  {
   "cell_type": "markdown",
   "metadata": {},
   "source": [
    "#### Type of data"
   ]
  },
  {
   "cell_type": "code",
   "execution_count": 123,
   "metadata": {},
   "outputs": [
    {
     "data": {
      "text/plain": [
       "Id                         int64\n",
       "PostTypeId                 int64\n",
       "AcceptedAnswerId         float64\n",
       "ParentId                 float64\n",
       "CreationDate              object\n",
       "DeletionDate             float64\n",
       "Score                      int64\n",
       "ViewCount                  int64\n",
       "Body                      object\n",
       "OwnerUserId              float64\n",
       "OwnerDisplayName          object\n",
       "LastEditorUserId         float64\n",
       "LastEditorDisplayName     object\n",
       "LastEditDate              object\n",
       "LastActivityDate          object\n",
       "Title                     object\n",
       "Tags                      object\n",
       "AnswerCount                int64\n",
       "CommentCount               int64\n",
       "FavoriteCount            float64\n",
       "ClosedDate                object\n",
       "CommunityOwnedDate        object\n",
       "dtype: object"
      ]
     },
     "execution_count": 123,
     "metadata": {},
     "output_type": "execute_result"
    }
   ],
   "source": [
    "questions.dtypes"
   ]
  },
  {
   "cell_type": "markdown",
   "metadata": {},
   "source": [
    "#### Size of each Sample"
   ]
  },
  {
   "cell_type": "code",
   "execution_count": 133,
   "metadata": {},
   "outputs": [
    {
     "data": {
      "text/html": [
       "<div>\n",
       "<style scoped>\n",
       "    .dataframe tbody tr th:only-of-type {\n",
       "        vertical-align: middle;\n",
       "    }\n",
       "\n",
       "    .dataframe tbody tr th {\n",
       "        vertical-align: top;\n",
       "    }\n",
       "\n",
       "    .dataframe thead th {\n",
       "        text-align: right;\n",
       "    }\n",
       "</style>\n",
       "<table border=\"1\" class=\"dataframe\">\n",
       "  <thead>\n",
       "    <tr style=\"text-align: right;\">\n",
       "      <th></th>\n",
       "      <th>0</th>\n",
       "    </tr>\n",
       "  </thead>\n",
       "  <tbody>\n",
       "    <tr>\n",
       "      <th>Id</th>\n",
       "      <td>10216788</td>\n",
       "    </tr>\n",
       "    <tr>\n",
       "      <th>PostTypeId</th>\n",
       "      <td>1</td>\n",
       "    </tr>\n",
       "    <tr>\n",
       "      <th>AcceptedAnswerId</th>\n",
       "      <td>1.0217e+07</td>\n",
       "    </tr>\n",
       "    <tr>\n",
       "      <th>ParentId</th>\n",
       "      <td>NaN</td>\n",
       "    </tr>\n",
       "    <tr>\n",
       "      <th>CreationDate</th>\n",
       "      <td>2012-04-18 19:42:58</td>\n",
       "    </tr>\n",
       "    <tr>\n",
       "      <th>DeletionDate</th>\n",
       "      <td>NaN</td>\n",
       "    </tr>\n",
       "    <tr>\n",
       "      <th>Score</th>\n",
       "      <td>0</td>\n",
       "    </tr>\n",
       "    <tr>\n",
       "      <th>ViewCount</th>\n",
       "      <td>2112</td>\n",
       "    </tr>\n",
       "    <tr>\n",
       "      <th>Body</th>\n",
       "      <td>&lt;p&gt;My question involves the use of SQL to assi...</td>\n",
       "    </tr>\n",
       "    <tr>\n",
       "      <th>OwnerUserId</th>\n",
       "      <td>1.19531e+06</td>\n",
       "    </tr>\n",
       "    <tr>\n",
       "      <th>OwnerDisplayName</th>\n",
       "      <td>NaN</td>\n",
       "    </tr>\n",
       "    <tr>\n",
       "      <th>LastEditorUserId</th>\n",
       "      <td>1.90595e+06</td>\n",
       "    </tr>\n",
       "    <tr>\n",
       "      <th>LastEditorDisplayName</th>\n",
       "      <td>NaN</td>\n",
       "    </tr>\n",
       "    <tr>\n",
       "      <th>LastEditDate</th>\n",
       "      <td>2017-05-07 15:11:05</td>\n",
       "    </tr>\n",
       "    <tr>\n",
       "      <th>LastActivityDate</th>\n",
       "      <td>2017-05-07 15:11:05</td>\n",
       "    </tr>\n",
       "    <tr>\n",
       "      <th>Title</th>\n",
       "      <td>How to group and assign group ID to duplicate ...</td>\n",
       "    </tr>\n",
       "    <tr>\n",
       "      <th>Tags</th>\n",
       "      <td>&lt;mysql&gt;&lt;sql&gt;&lt;group-by&gt;&lt;where&gt;</td>\n",
       "    </tr>\n",
       "    <tr>\n",
       "      <th>AnswerCount</th>\n",
       "      <td>3</td>\n",
       "    </tr>\n",
       "    <tr>\n",
       "      <th>CommentCount</th>\n",
       "      <td>0</td>\n",
       "    </tr>\n",
       "    <tr>\n",
       "      <th>FavoriteCount</th>\n",
       "      <td>1</td>\n",
       "    </tr>\n",
       "    <tr>\n",
       "      <th>ClosedDate</th>\n",
       "      <td>NaN</td>\n",
       "    </tr>\n",
       "    <tr>\n",
       "      <th>CommunityOwnedDate</th>\n",
       "      <td>NaN</td>\n",
       "    </tr>\n",
       "  </tbody>\n",
       "</table>\n",
       "</div>"
      ],
      "text/plain": [
       "                                                                       0\n",
       "Id                                                              10216788\n",
       "PostTypeId                                                             1\n",
       "AcceptedAnswerId                                              1.0217e+07\n",
       "ParentId                                                             NaN\n",
       "CreationDate                                         2012-04-18 19:42:58\n",
       "DeletionDate                                                         NaN\n",
       "Score                                                                  0\n",
       "ViewCount                                                           2112\n",
       "Body                   <p>My question involves the use of SQL to assi...\n",
       "OwnerUserId                                                  1.19531e+06\n",
       "OwnerDisplayName                                                     NaN\n",
       "LastEditorUserId                                             1.90595e+06\n",
       "LastEditorDisplayName                                                NaN\n",
       "LastEditDate                                         2017-05-07 15:11:05\n",
       "LastActivityDate                                     2017-05-07 15:11:05\n",
       "Title                  How to group and assign group ID to duplicate ...\n",
       "Tags                                       <mysql><sql><group-by><where>\n",
       "AnswerCount                                                            3\n",
       "CommentCount                                                           0\n",
       "FavoriteCount                                                          1\n",
       "ClosedDate                                                           NaN\n",
       "CommunityOwnedDate                                                   NaN"
      ]
     },
     "execution_count": 133,
     "metadata": {},
     "output_type": "execute_result"
    }
   ],
   "source": [
    "questions.head(1).transpose()"
   ]
  },
  {
   "cell_type": "markdown",
   "metadata": {},
   "source": [
    "#### Number of samples in dataset"
   ]
  },
  {
   "cell_type": "code",
   "execution_count": 160,
   "metadata": {},
   "outputs": [
    {
     "name": "stdout",
     "output_type": "stream",
     "text": [
      "There are 922199 questions with 22 features.\n"
     ]
    }
   ],
   "source": [
    "i = questions.shape\n",
    "print('There are', i[0], 'questions with', i[1], 'features.')"
   ]
  },
  {
   "cell_type": "code",
   "execution_count": 146,
   "metadata": {},
   "outputs": [
    {
     "data": {
      "text/html": [
       "<div>\n",
       "<style scoped>\n",
       "    .dataframe tbody tr th:only-of-type {\n",
       "        vertical-align: middle;\n",
       "    }\n",
       "\n",
       "    .dataframe tbody tr th {\n",
       "        vertical-align: top;\n",
       "    }\n",
       "\n",
       "    .dataframe thead th {\n",
       "        text-align: right;\n",
       "    }\n",
       "</style>\n",
       "<table border=\"1\" class=\"dataframe\">\n",
       "  <thead>\n",
       "    <tr style=\"text-align: right;\">\n",
       "      <th></th>\n",
       "      <th>count</th>\n",
       "      <th>mean</th>\n",
       "      <th>std</th>\n",
       "      <th>min</th>\n",
       "      <th>25%</th>\n",
       "      <th>50%</th>\n",
       "      <th>75%</th>\n",
       "      <th>max</th>\n",
       "    </tr>\n",
       "  </thead>\n",
       "  <tbody>\n",
       "    <tr>\n",
       "      <th>Id</th>\n",
       "      <td>916053.0</td>\n",
       "      <td>2.148818e+07</td>\n",
       "      <td>1.732701e+07</td>\n",
       "      <td>4.0</td>\n",
       "      <td>6012371.0</td>\n",
       "      <td>17170040.0</td>\n",
       "      <td>34561719.00</td>\n",
       "      <td>60245789.0</td>\n",
       "    </tr>\n",
       "    <tr>\n",
       "      <th>PostTypeId</th>\n",
       "      <td>916053.0</td>\n",
       "      <td>1.000000e+00</td>\n",
       "      <td>0.000000e+00</td>\n",
       "      <td>1.0</td>\n",
       "      <td>1.0</td>\n",
       "      <td>1.0</td>\n",
       "      <td>1.00</td>\n",
       "      <td>1.0</td>\n",
       "    </tr>\n",
       "    <tr>\n",
       "      <th>AcceptedAnswerId</th>\n",
       "      <td>695344.0</td>\n",
       "      <td>2.054687e+07</td>\n",
       "      <td>1.703022e+07</td>\n",
       "      <td>7.0</td>\n",
       "      <td>5600002.5</td>\n",
       "      <td>15783542.5</td>\n",
       "      <td>32850214.75</td>\n",
       "      <td>60245000.0</td>\n",
       "    </tr>\n",
       "    <tr>\n",
       "      <th>ParentId</th>\n",
       "      <td>0.0</td>\n",
       "      <td>NaN</td>\n",
       "      <td>NaN</td>\n",
       "      <td>NaN</td>\n",
       "      <td>NaN</td>\n",
       "      <td>NaN</td>\n",
       "      <td>NaN</td>\n",
       "      <td>NaN</td>\n",
       "    </tr>\n",
       "    <tr>\n",
       "      <th>DeletionDate</th>\n",
       "      <td>0.0</td>\n",
       "      <td>NaN</td>\n",
       "      <td>NaN</td>\n",
       "      <td>NaN</td>\n",
       "      <td>NaN</td>\n",
       "      <td>NaN</td>\n",
       "      <td>NaN</td>\n",
       "      <td>NaN</td>\n",
       "    </tr>\n",
       "    <tr>\n",
       "      <th>Score</th>\n",
       "      <td>916053.0</td>\n",
       "      <td>6.469840e+00</td>\n",
       "      <td>7.257310e+01</td>\n",
       "      <td>-52.0</td>\n",
       "      <td>0.0</td>\n",
       "      <td>1.0</td>\n",
       "      <td>3.00</td>\n",
       "      <td>24080.0</td>\n",
       "    </tr>\n",
       "    <tr>\n",
       "      <th>ViewCount</th>\n",
       "      <td>916053.0</td>\n",
       "      <td>6.385482e+03</td>\n",
       "      <td>4.761797e+04</td>\n",
       "      <td>5.0</td>\n",
       "      <td>108.0</td>\n",
       "      <td>509.0</td>\n",
       "      <td>2161.00</td>\n",
       "      <td>8389977.0</td>\n",
       "    </tr>\n",
       "    <tr>\n",
       "      <th>OwnerUserId</th>\n",
       "      <td>894211.0</td>\n",
       "      <td>2.308072e+06</td>\n",
       "      <td>2.731840e+06</td>\n",
       "      <td>1.0</td>\n",
       "      <td>358438.0</td>\n",
       "      <td>1168402.0</td>\n",
       "      <td>3287714.50</td>\n",
       "      <td>12905308.0</td>\n",
       "    </tr>\n",
       "    <tr>\n",
       "      <th>LastEditorUserId</th>\n",
       "      <td>540631.0</td>\n",
       "      <td>1.598296e+06</td>\n",
       "      <td>2.272910e+06</td>\n",
       "      <td>-1.0</td>\n",
       "      <td>107418.0</td>\n",
       "      <td>651174.0</td>\n",
       "      <td>2019415.00</td>\n",
       "      <td>12902824.0</td>\n",
       "    </tr>\n",
       "    <tr>\n",
       "      <th>AnswerCount</th>\n",
       "      <td>916053.0</td>\n",
       "      <td>2.641999e+00</td>\n",
       "      <td>2.934118e+00</td>\n",
       "      <td>1.0</td>\n",
       "      <td>1.0</td>\n",
       "      <td>2.0</td>\n",
       "      <td>3.00</td>\n",
       "      <td>518.0</td>\n",
       "    </tr>\n",
       "    <tr>\n",
       "      <th>CommentCount</th>\n",
       "      <td>916053.0</td>\n",
       "      <td>1.985432e+00</td>\n",
       "      <td>2.742936e+00</td>\n",
       "      <td>0.0</td>\n",
       "      <td>0.0</td>\n",
       "      <td>1.0</td>\n",
       "      <td>3.00</td>\n",
       "      <td>56.0</td>\n",
       "    </tr>\n",
       "    <tr>\n",
       "      <th>FavoriteCount</th>\n",
       "      <td>298847.0</td>\n",
       "      <td>6.381396e+00</td>\n",
       "      <td>6.400417e+01</td>\n",
       "      <td>0.0</td>\n",
       "      <td>1.0</td>\n",
       "      <td>1.0</td>\n",
       "      <td>3.00</td>\n",
       "      <td>10906.0</td>\n",
       "    </tr>\n",
       "  </tbody>\n",
       "</table>\n",
       "</div>"
      ],
      "text/plain": [
       "                     count          mean           std   min        25%  \\\n",
       "Id                916053.0  2.148818e+07  1.732701e+07   4.0  6012371.0   \n",
       "PostTypeId        916053.0  1.000000e+00  0.000000e+00   1.0        1.0   \n",
       "AcceptedAnswerId  695344.0  2.054687e+07  1.703022e+07   7.0  5600002.5   \n",
       "ParentId               0.0           NaN           NaN   NaN        NaN   \n",
       "DeletionDate           0.0           NaN           NaN   NaN        NaN   \n",
       "Score             916053.0  6.469840e+00  7.257310e+01 -52.0        0.0   \n",
       "ViewCount         916053.0  6.385482e+03  4.761797e+04   5.0      108.0   \n",
       "OwnerUserId       894211.0  2.308072e+06  2.731840e+06   1.0   358438.0   \n",
       "LastEditorUserId  540631.0  1.598296e+06  2.272910e+06  -1.0   107418.0   \n",
       "AnswerCount       916053.0  2.641999e+00  2.934118e+00   1.0        1.0   \n",
       "CommentCount      916053.0  1.985432e+00  2.742936e+00   0.0        0.0   \n",
       "FavoriteCount     298847.0  6.381396e+00  6.400417e+01   0.0        1.0   \n",
       "\n",
       "                         50%          75%         max  \n",
       "Id                17170040.0  34561719.00  60245789.0  \n",
       "PostTypeId               1.0         1.00         1.0  \n",
       "AcceptedAnswerId  15783542.5  32850214.75  60245000.0  \n",
       "ParentId                 NaN          NaN         NaN  \n",
       "DeletionDate             NaN          NaN         NaN  \n",
       "Score                    1.0         3.00     24080.0  \n",
       "ViewCount              509.0      2161.00   8389977.0  \n",
       "OwnerUserId        1168402.0   3287714.50  12905308.0  \n",
       "LastEditorUserId    651174.0   2019415.00  12902824.0  \n",
       "AnswerCount              2.0         3.00       518.0  \n",
       "CommentCount             1.0         3.00        56.0  \n",
       "FavoriteCount            1.0         3.00     10906.0  "
      ]
     },
     "execution_count": 146,
     "metadata": {},
     "output_type": "execute_result"
    }
   ],
   "source": [
    "questions.describe().transpose()"
   ]
  },
  {
   "cell_type": "markdown",
   "metadata": {},
   "source": [
    "### Questions Per User"
   ]
  },
  {
   "cell_type": "code",
   "execution_count": 179,
   "metadata": {},
   "outputs": [
    {
     "data": {
      "text/html": [
       "<div>\n",
       "<style scoped>\n",
       "    .dataframe tbody tr th:only-of-type {\n",
       "        vertical-align: middle;\n",
       "    }\n",
       "\n",
       "    .dataframe tbody tr th {\n",
       "        vertical-align: top;\n",
       "    }\n",
       "\n",
       "    .dataframe thead th {\n",
       "        text-align: right;\n",
       "    }\n",
       "</style>\n",
       "<table border=\"1\" class=\"dataframe\">\n",
       "  <thead>\n",
       "    <tr style=\"text-align: right;\">\n",
       "      <th></th>\n",
       "      <th>OwnerUserId</th>\n",
       "      <th>question_count</th>\n",
       "    </tr>\n",
       "  </thead>\n",
       "  <tbody>\n",
       "    <tr>\n",
       "      <th>count</th>\n",
       "      <td>3.899080e+05</td>\n",
       "      <td>389908.000000</td>\n",
       "    </tr>\n",
       "    <tr>\n",
       "      <th>mean</th>\n",
       "      <td>3.139607e+06</td>\n",
       "      <td>2.309152</td>\n",
       "    </tr>\n",
       "    <tr>\n",
       "      <th>std</th>\n",
       "      <td>3.002720e+06</td>\n",
       "      <td>5.140721</td>\n",
       "    </tr>\n",
       "    <tr>\n",
       "      <th>min</th>\n",
       "      <td>1.000000e+00</td>\n",
       "      <td>1.000000</td>\n",
       "    </tr>\n",
       "    <tr>\n",
       "      <th>25%</th>\n",
       "      <td>7.722370e+05</td>\n",
       "      <td>1.000000</td>\n",
       "    </tr>\n",
       "    <tr>\n",
       "      <th>50%</th>\n",
       "      <td>2.105692e+06</td>\n",
       "      <td>1.000000</td>\n",
       "    </tr>\n",
       "    <tr>\n",
       "      <th>75%</th>\n",
       "      <td>4.682640e+06</td>\n",
       "      <td>2.000000</td>\n",
       "    </tr>\n",
       "    <tr>\n",
       "      <th>max</th>\n",
       "      <td>1.290531e+07</td>\n",
       "      <td>684.000000</td>\n",
       "    </tr>\n",
       "  </tbody>\n",
       "</table>\n",
       "</div>"
      ],
      "text/plain": [
       "        OwnerUserId  question_count\n",
       "count  3.899080e+05   389908.000000\n",
       "mean   3.139607e+06        2.309152\n",
       "std    3.002720e+06        5.140721\n",
       "min    1.000000e+00        1.000000\n",
       "25%    7.722370e+05        1.000000\n",
       "50%    2.105692e+06        1.000000\n",
       "75%    4.682640e+06        2.000000\n",
       "max    1.290531e+07      684.000000"
      ]
     },
     "execution_count": 179,
     "metadata": {},
     "output_type": "execute_result"
    }
   ],
   "source": [
    "user_question = questions.groupby(['OwnerUserId']).size().reset_index(name='question_count')\n",
    "\n",
    "user_question.describe()"
   ]
  },
  {
   "cell_type": "code",
   "execution_count": 139,
   "metadata": {},
   "outputs": [
    {
     "data": {
      "image/png": "[encoded data removed]",
      "text/plain": [
       "<Figure size 576x374.4 with 1 Axes>"
      ]
     },
     "metadata": {},
     "output_type": "display_data"
    }
   ],
   "source": [
    "plot = user_question[['question_count']].plot.kde(title='Density-Plot of Questions per User', \n",
    "                                                  figsize=(8, 5.2), \n",
    "                                                  xlim = (0, 25), \n",
    "                                                  bw_method = 0.8)"
   ]
  },
  {
   "cell_type": "markdown",
   "metadata": {},
   "source": [
    "### Questions Score Distribution"
   ]
  },
  {
   "cell_type": "code",
   "execution_count": 140,
   "metadata": {},
   "outputs": [
    {
     "data": {
      "image/png": "[encoded data removed]",
      "text/plain": [
       "<Figure size 576x374.4 with 1 Axes>"
      ]
     },
     "metadata": {},
     "output_type": "display_data"
    }
   ],
   "source": [
    "# density plot for Score\n",
    "dens_plot = questions[['Score']].plot.density(title='Density-Plot of Score', \n",
    "                                              figsize=(8, 5.2), \n",
    "                                              xlim = (-100, 1000), \n",
    "                                              bw_method = 1)"
   ]
  },
  {
   "cell_type": "markdown",
   "metadata": {},
   "source": [
    "### Questions View Count Distribution"
   ]
  },
  {
   "cell_type": "code",
   "execution_count": 141,
   "metadata": {},
   "outputs": [
    {
     "data": {
      "image/png": "[encoded data removed]",
      "text/plain": [
       "<Figure size 576x374.4 with 1 Axes>"
      ]
     },
     "metadata": {},
     "output_type": "display_data"
    }
   ],
   "source": [
    "# density plot for ViewCount\n",
    "dens_plot = questions[['ViewCount']].plot.density(title='Density-Plot of ViewCount', \n",
    "                                                  figsize=(8, 5.2), \n",
    "                                                  xlim = (1, 200000),\n",
    "                                                  bw_method = 1)"
   ]
  },
  {
   "cell_type": "markdown",
   "metadata": {},
   "source": [
    "### Questions Answer Count Distribution"
   ]
  },
  {
   "cell_type": "code",
   "execution_count": 142,
   "metadata": {},
   "outputs": [
    {
     "data": {
      "image/png": "[encoded data removed]",
      "text/plain": [
       "<Figure size 576x374.4 with 1 Axes>"
      ]
     },
     "metadata": {},
     "output_type": "display_data"
    }
   ],
   "source": [
    "# density plot for AnswerCount\n",
    "dens_plot = questions[['AnswerCount']].plot.density(title='Density-Plot of each AnswerCount', \n",
    "                                                    figsize=(8, 5.2), \n",
    "                                                    xlim = (1, 50), \n",
    "                                                    bw_method = 1)"
   ]
  },
  {
   "cell_type": "markdown",
   "metadata": {},
   "source": [
    "### Questions Comment Count Distribution"
   ]
  },
  {
   "cell_type": "code",
   "execution_count": 143,
   "metadata": {},
   "outputs": [
    {
     "data": {
      "image/png": "[encoded data removed]",
      "text/plain": [
       "<Figure size 576x374.4 with 1 Axes>"
      ]
     },
     "metadata": {},
     "output_type": "display_data"
    }
   ],
   "source": [
    "# density plot for CommentCount\n",
    "dens_plot = questions[['CommentCount']].plot.density(title='Density-Plot of CommentCount', \n",
    "                                                     figsize=(8, 5.2), \n",
    "                                                     xlim = (0, 56), \n",
    "                                                     bw_method = 1)"
   ]
  },
  {
   "cell_type": "markdown",
   "metadata": {},
   "source": [
    "### Questions Favourite Count Distribution"
   ]
  },
  {
   "cell_type": "code",
   "execution_count": 144,
   "metadata": {},
   "outputs": [
    {
     "data": {
      "image/png": "[encoded data removed]",
      "text/plain": [
       "<Figure size 576x374.4 with 1 Axes>"
      ]
     },
     "metadata": {},
     "output_type": "display_data"
    }
   ],
   "source": [
    "# density plot for FavoriteCount\n",
    "dens_plot = questions[['FavoriteCount']].plot.density(title='Density-Plot of each variable', \n",
    "                                                      figsize=(8, 5.2), \n",
    "                                                      xlim = (0, 500), \n",
    "                                                      bw_method = 1)"
   ]
  },
  {
   "cell_type": "markdown",
   "metadata": {},
   "source": [
    "## Answers Exploration"
   ]
  },
  {
   "cell_type": "code",
   "execution_count": 156,
   "metadata": {},
   "outputs": [],
   "source": [
    "answers = pd.read_csv('data/Answers.csv', \n",
    "                      low_memory=False).drop(['Unnamed: 0'], 1)"
   ]
  },
  {
   "cell_type": "markdown",
   "metadata": {},
   "source": [
    "#### Type of data"
   ]
  },
  {
   "cell_type": "code",
   "execution_count": 145,
   "metadata": {},
   "outputs": [
    {
     "data": {
      "text/plain": [
       "Id                         int64\n",
       "PostTypeId                 int64\n",
       "AcceptedAnswerId         float64\n",
       "ParentId                 float64\n",
       "CreationDate              object\n",
       "DeletionDate             float64\n",
       "Score                      int64\n",
       "ViewCount                float64\n",
       "Body                      object\n",
       "OwnerUserId                int64\n",
       "OwnerDisplayName          object\n",
       "LastEditorUserId         float64\n",
       "LastEditorDisplayName     object\n",
       "LastEditDate              object\n",
       "LastActivityDate          object\n",
       "Title                     object\n",
       "Tags                      object\n",
       "AnswerCount              float64\n",
       "CommentCount               int64\n",
       "FavoriteCount            float64\n",
       "ClosedDate                object\n",
       "CommunityOwnedDate        object\n",
       "dtype: object"
      ]
     },
     "execution_count": 145,
     "metadata": {},
     "output_type": "execute_result"
    }
   ],
   "source": [
    "answers.dtypes"
   ]
  },
  {
   "cell_type": "markdown",
   "metadata": {},
   "source": [
    "#### Size of each Sample"
   ]
  },
  {
   "cell_type": "code",
   "execution_count": 147,
   "metadata": {},
   "outputs": [
    {
     "data": {
      "text/html": [
       "<div>\n",
       "<style scoped>\n",
       "    .dataframe tbody tr th:only-of-type {\n",
       "        vertical-align: middle;\n",
       "    }\n",
       "\n",
       "    .dataframe tbody tr th {\n",
       "        vertical-align: top;\n",
       "    }\n",
       "\n",
       "    .dataframe thead th {\n",
       "        text-align: right;\n",
       "    }\n",
       "</style>\n",
       "<table border=\"1\" class=\"dataframe\">\n",
       "  <thead>\n",
       "    <tr style=\"text-align: right;\">\n",
       "      <th></th>\n",
       "      <th>0</th>\n",
       "    </tr>\n",
       "  </thead>\n",
       "  <tbody>\n",
       "    <tr>\n",
       "      <th>Id</th>\n",
       "      <td>8825740</td>\n",
       "    </tr>\n",
       "    <tr>\n",
       "      <th>PostTypeId</th>\n",
       "      <td>2</td>\n",
       "    </tr>\n",
       "    <tr>\n",
       "      <th>AcceptedAnswerId</th>\n",
       "      <td>NaN</td>\n",
       "    </tr>\n",
       "    <tr>\n",
       "      <th>ParentId</th>\n",
       "      <td>2.38153e+06</td>\n",
       "    </tr>\n",
       "    <tr>\n",
       "      <th>CreationDate</th>\n",
       "      <td>2012-01-11 19:53:57</td>\n",
       "    </tr>\n",
       "    <tr>\n",
       "      <th>DeletionDate</th>\n",
       "      <td>NaN</td>\n",
       "    </tr>\n",
       "    <tr>\n",
       "      <th>Score</th>\n",
       "      <td>14</td>\n",
       "    </tr>\n",
       "    <tr>\n",
       "      <th>ViewCount</th>\n",
       "      <td>NaN</td>\n",
       "    </tr>\n",
       "    <tr>\n",
       "      <th>Body</th>\n",
       "      <td>&lt;p&gt;It is possible to do everything you want. A...</td>\n",
       "    </tr>\n",
       "    <tr>\n",
       "      <th>OwnerUserId</th>\n",
       "      <td>1144035</td>\n",
       "    </tr>\n",
       "    <tr>\n",
       "      <th>OwnerDisplayName</th>\n",
       "      <td>NaN</td>\n",
       "    </tr>\n",
       "    <tr>\n",
       "      <th>LastEditorUserId</th>\n",
       "      <td>188246</td>\n",
       "    </tr>\n",
       "    <tr>\n",
       "      <th>LastEditorDisplayName</th>\n",
       "      <td>NaN</td>\n",
       "    </tr>\n",
       "    <tr>\n",
       "      <th>LastEditDate</th>\n",
       "      <td>2015-01-12 17:05:26</td>\n",
       "    </tr>\n",
       "    <tr>\n",
       "      <th>LastActivityDate</th>\n",
       "      <td>2015-01-12 17:05:26</td>\n",
       "    </tr>\n",
       "    <tr>\n",
       "      <th>Title</th>\n",
       "      <td>NaN</td>\n",
       "    </tr>\n",
       "    <tr>\n",
       "      <th>Tags</th>\n",
       "      <td>NaN</td>\n",
       "    </tr>\n",
       "    <tr>\n",
       "      <th>AnswerCount</th>\n",
       "      <td>NaN</td>\n",
       "    </tr>\n",
       "    <tr>\n",
       "      <th>CommentCount</th>\n",
       "      <td>3</td>\n",
       "    </tr>\n",
       "    <tr>\n",
       "      <th>FavoriteCount</th>\n",
       "      <td>NaN</td>\n",
       "    </tr>\n",
       "    <tr>\n",
       "      <th>ClosedDate</th>\n",
       "      <td>NaN</td>\n",
       "    </tr>\n",
       "    <tr>\n",
       "      <th>CommunityOwnedDate</th>\n",
       "      <td>NaN</td>\n",
       "    </tr>\n",
       "  </tbody>\n",
       "</table>\n",
       "</div>"
      ],
      "text/plain": [
       "                                                                       0\n",
       "Id                                                               8825740\n",
       "PostTypeId                                                             2\n",
       "AcceptedAnswerId                                                     NaN\n",
       "ParentId                                                     2.38153e+06\n",
       "CreationDate                                         2012-01-11 19:53:57\n",
       "DeletionDate                                                         NaN\n",
       "Score                                                                 14\n",
       "ViewCount                                                            NaN\n",
       "Body                   <p>It is possible to do everything you want. A...\n",
       "OwnerUserId                                                      1144035\n",
       "OwnerDisplayName                                                     NaN\n",
       "LastEditorUserId                                                  188246\n",
       "LastEditorDisplayName                                                NaN\n",
       "LastEditDate                                         2015-01-12 17:05:26\n",
       "LastActivityDate                                     2015-01-12 17:05:26\n",
       "Title                                                                NaN\n",
       "Tags                                                                 NaN\n",
       "AnswerCount                                                          NaN\n",
       "CommentCount                                                           3\n",
       "FavoriteCount                                                        NaN\n",
       "ClosedDate                                                           NaN\n",
       "CommunityOwnedDate                                                   NaN"
      ]
     },
     "execution_count": 147,
     "metadata": {},
     "output_type": "execute_result"
    }
   ],
   "source": [
    "answers.head(1).transpose()"
   ]
  },
  {
   "cell_type": "markdown",
   "metadata": {},
   "source": [
    "#### Number of samples in dataset"
   ]
  },
  {
   "cell_type": "code",
   "execution_count": 148,
   "metadata": {},
   "outputs": [
    {
     "name": "stdout",
     "output_type": "stream",
     "text": [
      "There are 930668 answers with 22 features.\n"
     ]
    }
   ],
   "source": [
    "i = answers.shape\n",
    "print('There are', i[0], 'answers with', i[1], 'features.')"
   ]
  },
  {
   "cell_type": "code",
   "execution_count": 149,
   "metadata": {},
   "outputs": [
    {
     "data": {
      "text/html": [
       "<div>\n",
       "<style scoped>\n",
       "    .dataframe tbody tr th:only-of-type {\n",
       "        vertical-align: middle;\n",
       "    }\n",
       "\n",
       "    .dataframe tbody tr th {\n",
       "        vertical-align: top;\n",
       "    }\n",
       "\n",
       "    .dataframe thead th {\n",
       "        text-align: right;\n",
       "    }\n",
       "</style>\n",
       "<table border=\"1\" class=\"dataframe\">\n",
       "  <thead>\n",
       "    <tr style=\"text-align: right;\">\n",
       "      <th></th>\n",
       "      <th>count</th>\n",
       "      <th>mean</th>\n",
       "      <th>std</th>\n",
       "      <th>min</th>\n",
       "      <th>25%</th>\n",
       "      <th>50%</th>\n",
       "      <th>75%</th>\n",
       "      <th>max</th>\n",
       "    </tr>\n",
       "  </thead>\n",
       "  <tbody>\n",
       "    <tr>\n",
       "      <th>Id</th>\n",
       "      <td>930668.0</td>\n",
       "      <td>2.118422e+07</td>\n",
       "      <td>1.714353e+07</td>\n",
       "      <td>1141.0</td>\n",
       "      <td>5757926.25</td>\n",
       "      <td>16930827.0</td>\n",
       "      <td>34224430.25</td>\n",
       "      <td>60245884.0</td>\n",
       "    </tr>\n",
       "    <tr>\n",
       "      <th>PostTypeId</th>\n",
       "      <td>930668.0</td>\n",
       "      <td>1.997192e+00</td>\n",
       "      <td>1.288017e-01</td>\n",
       "      <td>1.0</td>\n",
       "      <td>2.00</td>\n",
       "      <td>2.0</td>\n",
       "      <td>2.00</td>\n",
       "      <td>6.0</td>\n",
       "    </tr>\n",
       "    <tr>\n",
       "      <th>AcceptedAnswerId</th>\n",
       "      <td>5130.0</td>\n",
       "      <td>1.307581e+07</td>\n",
       "      <td>1.550224e+07</td>\n",
       "      <td>4449.0</td>\n",
       "      <td>1936562.75</td>\n",
       "      <td>5283550.0</td>\n",
       "      <td>21194412.75</td>\n",
       "      <td>60244434.0</td>\n",
       "    </tr>\n",
       "    <tr>\n",
       "      <th>ParentId</th>\n",
       "      <td>923124.0</td>\n",
       "      <td>2.114552e+07</td>\n",
       "      <td>1.710958e+07</td>\n",
       "      <td>4.0</td>\n",
       "      <td>5758321.50</td>\n",
       "      <td>16915848.0</td>\n",
       "      <td>34127949.25</td>\n",
       "      <td>60245789.0</td>\n",
       "    </tr>\n",
       "    <tr>\n",
       "      <th>DeletionDate</th>\n",
       "      <td>0.0</td>\n",
       "      <td>NaN</td>\n",
       "      <td>NaN</td>\n",
       "      <td>NaN</td>\n",
       "      <td>NaN</td>\n",
       "      <td>NaN</td>\n",
       "      <td>NaN</td>\n",
       "      <td>NaN</td>\n",
       "    </tr>\n",
       "    <tr>\n",
       "      <th>Score</th>\n",
       "      <td>930668.0</td>\n",
       "      <td>6.537395e+00</td>\n",
       "      <td>7.674702e+01</td>\n",
       "      <td>-51.0</td>\n",
       "      <td>1.00</td>\n",
       "      <td>2.0</td>\n",
       "      <td>4.00</td>\n",
       "      <td>31409.0</td>\n",
       "    </tr>\n",
       "    <tr>\n",
       "      <th>ViewCount</th>\n",
       "      <td>6146.0</td>\n",
       "      <td>1.598089e+04</td>\n",
       "      <td>1.339871e+05</td>\n",
       "      <td>10.0</td>\n",
       "      <td>396.25</td>\n",
       "      <td>1330.5</td>\n",
       "      <td>5137.75</td>\n",
       "      <td>7996617.0</td>\n",
       "    </tr>\n",
       "    <tr>\n",
       "      <th>OwnerUserId</th>\n",
       "      <td>930668.0</td>\n",
       "      <td>4.776141e+05</td>\n",
       "      <td>8.383701e+05</td>\n",
       "      <td>267.0</td>\n",
       "      <td>23354.00</td>\n",
       "      <td>118068.0</td>\n",
       "      <td>548225.00</td>\n",
       "      <td>3832970.0</td>\n",
       "    </tr>\n",
       "    <tr>\n",
       "      <th>LastEditorUserId</th>\n",
       "      <td>327056.0</td>\n",
       "      <td>6.456028e+05</td>\n",
       "      <td>1.151393e+06</td>\n",
       "      <td>-1.0</td>\n",
       "      <td>20860.00</td>\n",
       "      <td>157247.0</td>\n",
       "      <td>641914.00</td>\n",
       "      <td>12809784.0</td>\n",
       "    </tr>\n",
       "    <tr>\n",
       "      <th>AnswerCount</th>\n",
       "      <td>6146.0</td>\n",
       "      <td>3.207615e+00</td>\n",
       "      <td>6.428819e+00</td>\n",
       "      <td>0.0</td>\n",
       "      <td>1.00</td>\n",
       "      <td>2.0</td>\n",
       "      <td>4.00</td>\n",
       "      <td>407.0</td>\n",
       "    </tr>\n",
       "    <tr>\n",
       "      <th>CommentCount</th>\n",
       "      <td>930668.0</td>\n",
       "      <td>1.837640e+00</td>\n",
       "      <td>2.690593e+00</td>\n",
       "      <td>0.0</td>\n",
       "      <td>0.00</td>\n",
       "      <td>1.0</td>\n",
       "      <td>3.00</td>\n",
       "      <td>116.0</td>\n",
       "    </tr>\n",
       "    <tr>\n",
       "      <th>FavoriteCount</th>\n",
       "      <td>3827.0</td>\n",
       "      <td>2.423700e+01</td>\n",
       "      <td>2.607855e+02</td>\n",
       "      <td>0.0</td>\n",
       "      <td>1.00</td>\n",
       "      <td>3.0</td>\n",
       "      <td>7.00</td>\n",
       "      <td>10906.0</td>\n",
       "    </tr>\n",
       "  </tbody>\n",
       "</table>\n",
       "</div>"
      ],
      "text/plain": [
       "                     count          mean           std     min         25%  \\\n",
       "Id                930668.0  2.118422e+07  1.714353e+07  1141.0  5757926.25   \n",
       "PostTypeId        930668.0  1.997192e+00  1.288017e-01     1.0        2.00   \n",
       "AcceptedAnswerId    5130.0  1.307581e+07  1.550224e+07  4449.0  1936562.75   \n",
       "ParentId          923124.0  2.114552e+07  1.710958e+07     4.0  5758321.50   \n",
       "DeletionDate           0.0           NaN           NaN     NaN         NaN   \n",
       "Score             930668.0  6.537395e+00  7.674702e+01   -51.0        1.00   \n",
       "ViewCount           6146.0  1.598089e+04  1.339871e+05    10.0      396.25   \n",
       "OwnerUserId       930668.0  4.776141e+05  8.383701e+05   267.0    23354.00   \n",
       "LastEditorUserId  327056.0  6.456028e+05  1.151393e+06    -1.0    20860.00   \n",
       "AnswerCount         6146.0  3.207615e+00  6.428819e+00     0.0        1.00   \n",
       "CommentCount      930668.0  1.837640e+00  2.690593e+00     0.0        0.00   \n",
       "FavoriteCount       3827.0  2.423700e+01  2.607855e+02     0.0        1.00   \n",
       "\n",
       "                         50%          75%         max  \n",
       "Id                16930827.0  34224430.25  60245884.0  \n",
       "PostTypeId               2.0         2.00         6.0  \n",
       "AcceptedAnswerId   5283550.0  21194412.75  60244434.0  \n",
       "ParentId          16915848.0  34127949.25  60245789.0  \n",
       "DeletionDate             NaN          NaN         NaN  \n",
       "Score                    2.0         4.00     31409.0  \n",
       "ViewCount             1330.5      5137.75   7996617.0  \n",
       "OwnerUserId         118068.0    548225.00   3832970.0  \n",
       "LastEditorUserId    157247.0    641914.00  12809784.0  \n",
       "AnswerCount              2.0         4.00       407.0  \n",
       "CommentCount             1.0         3.00       116.0  \n",
       "FavoriteCount            3.0         7.00     10906.0  "
      ]
     },
     "execution_count": 149,
     "metadata": {},
     "output_type": "execute_result"
    }
   ],
   "source": [
    "answers.describe().transpose()"
   ]
  },
  {
   "cell_type": "markdown",
   "metadata": {},
   "source": [
    "### Answers Per User"
   ]
  },
  {
   "cell_type": "code",
   "execution_count": 150,
   "metadata": {},
   "outputs": [
    {
     "data": {
      "text/html": [
       "<div>\n",
       "<style scoped>\n",
       "    .dataframe tbody tr th:only-of-type {\n",
       "        vertical-align: middle;\n",
       "    }\n",
       "\n",
       "    .dataframe tbody tr th {\n",
       "        vertical-align: top;\n",
       "    }\n",
       "\n",
       "    .dataframe thead th {\n",
       "        text-align: right;\n",
       "    }\n",
       "</style>\n",
       "<table border=\"1\" class=\"dataframe\">\n",
       "  <thead>\n",
       "    <tr style=\"text-align: right;\">\n",
       "      <th></th>\n",
       "      <th>OwnerUserId</th>\n",
       "      <th>answer_count</th>\n",
       "    </tr>\n",
       "  </thead>\n",
       "  <tbody>\n",
       "    <tr>\n",
       "      <th>count</th>\n",
       "      <td>1.080000e+02</td>\n",
       "      <td>108.000000</td>\n",
       "    </tr>\n",
       "    <tr>\n",
       "      <th>mean</th>\n",
       "      <td>3.211547e+05</td>\n",
       "      <td>8617.296296</td>\n",
       "    </tr>\n",
       "    <tr>\n",
       "      <th>std</th>\n",
       "      <td>6.297311e+05</td>\n",
       "      <td>7481.176941</td>\n",
       "    </tr>\n",
       "    <tr>\n",
       "      <th>min</th>\n",
       "      <td>2.670000e+02</td>\n",
       "      <td>186.000000</td>\n",
       "    </tr>\n",
       "    <tr>\n",
       "      <th>25%</th>\n",
       "      <td>2.230050e+04</td>\n",
       "      <td>3833.000000</td>\n",
       "    </tr>\n",
       "    <tr>\n",
       "      <th>50%</th>\n",
       "      <td>1.052865e+05</td>\n",
       "      <td>6447.500000</td>\n",
       "    </tr>\n",
       "    <tr>\n",
       "      <th>75%</th>\n",
       "      <td>2.807802e+05</td>\n",
       "      <td>11221.500000</td>\n",
       "    </tr>\n",
       "    <tr>\n",
       "      <th>max</th>\n",
       "      <td>3.832970e+06</td>\n",
       "      <td>50000.000000</td>\n",
       "    </tr>\n",
       "  </tbody>\n",
       "</table>\n",
       "</div>"
      ],
      "text/plain": [
       "        OwnerUserId  answer_count\n",
       "count  1.080000e+02    108.000000\n",
       "mean   3.211547e+05   8617.296296\n",
       "std    6.297311e+05   7481.176941\n",
       "min    2.670000e+02    186.000000\n",
       "25%    2.230050e+04   3833.000000\n",
       "50%    1.052865e+05   6447.500000\n",
       "75%    2.807802e+05  11221.500000\n",
       "max    3.832970e+06  50000.000000"
      ]
     },
     "execution_count": 150,
     "metadata": {},
     "output_type": "execute_result"
    }
   ],
   "source": [
    "user_answer = answers.groupby(['OwnerUserId']).size().reset_index(name='answer_count')\n",
    "\n",
    "user_answer.describe()"
   ]
  },
  {
   "cell_type": "code",
   "execution_count": 151,
   "metadata": {},
   "outputs": [
    {
     "data": {
      "image/png": "[encoded data removed]",
      "text/plain": [
       "<Figure size 576x374.4 with 1 Axes>"
      ]
     },
     "metadata": {},
     "output_type": "display_data"
    }
   ],
   "source": [
    "plot = user_answer[['answer_count']].plot.kde(title=\"Density-Plot of Answers per User\", \n",
    "                                              figsize=(8, 5.2), \n",
    "                                              xlim = (0, 50000), \n",
    "                                              bw_method = 0.8)"
   ]
  },
  {
   "cell_type": "markdown",
   "metadata": {},
   "source": [
    "### Answers Score Distribution"
   ]
  },
  {
   "cell_type": "code",
   "execution_count": 152,
   "metadata": {},
   "outputs": [
    {
     "data": {
      "image/png": "[encoded data removed]",
      "text/plain": [
       "<Figure size 576x374.4 with 1 Axes>"
      ]
     },
     "metadata": {},
     "output_type": "display_data"
    }
   ],
   "source": [
    "# density plot for Score\n",
    "dens_plot = answers[['Score']].plot.density(title='Density-Plot of Score', \n",
    "                                            figsize=(8, 5.2), \n",
    "                                            xlim = (-100, 1000), \n",
    "                                            bw_method = 1)"
   ]
  },
  {
   "cell_type": "markdown",
   "metadata": {},
   "source": [
    "### Answers Comment Count Distribution"
   ]
  },
  {
   "cell_type": "code",
   "execution_count": 153,
   "metadata": {},
   "outputs": [
    {
     "data": {
      "image/png": "[encoded data removed]",
      "text/plain": [
       "<Figure size 576x374.4 with 1 Axes>"
      ]
     },
     "metadata": {},
     "output_type": "display_data"
    }
   ],
   "source": [
    "# density plot for CommentCount\n",
    "dens_plot = answers[['CommentCount']].plot.density(title='Density-Plot of CommentCount', \n",
    "                                                   figsize=(8, 5.2),\n",
    "                                                   xlim = (0, 56), \n",
    "                                                   bw_method = 1)"
   ]
  },
  {
   "cell_type": "markdown",
   "metadata": {},
   "source": [
    "## Users Exploration"
   ]
  },
  {
   "cell_type": "code",
   "execution_count": null,
   "metadata": {},
   "outputs": [],
   "source": [
    "users = pd.read_csv('data/Users.csv')"
   ]
  },
  {
   "cell_type": "markdown",
   "metadata": {},
   "source": [
    "#### Type of data"
   ]
  },
  {
   "cell_type": "code",
   "execution_count": 157,
   "metadata": {},
   "outputs": [
    {
     "data": {
      "text/plain": [
       "Id                   int64\n",
       "Reputation           int64\n",
       "CreationDate        object\n",
       "DisplayName         object\n",
       "LastAccessDate      object\n",
       "WebsiteUrl          object\n",
       "Location            object\n",
       "AboutMe             object\n",
       "Views                int64\n",
       "UpVotes              int64\n",
       "DownVotes            int64\n",
       "ProfileImageUrl     object\n",
       "EmailHash          float64\n",
       "AccountId            int64\n",
       "dtype: object"
      ]
     },
     "execution_count": 157,
     "metadata": {},
     "output_type": "execute_result"
    }
   ],
   "source": [
    "users.dtypes"
   ]
  },
  {
   "cell_type": "markdown",
   "metadata": {},
   "source": [
    "#### Size of each Sample"
   ]
  },
  {
   "cell_type": "code",
   "execution_count": 158,
   "metadata": {},
   "outputs": [
    {
     "data": {
      "text/html": [
       "<div>\n",
       "<style scoped>\n",
       "    .dataframe tbody tr th:only-of-type {\n",
       "        vertical-align: middle;\n",
       "    }\n",
       "\n",
       "    .dataframe tbody tr th {\n",
       "        vertical-align: top;\n",
       "    }\n",
       "\n",
       "    .dataframe thead th {\n",
       "        text-align: right;\n",
       "    }\n",
       "</style>\n",
       "<table border=\"1\" class=\"dataframe\">\n",
       "  <thead>\n",
       "    <tr style=\"text-align: right;\">\n",
       "      <th></th>\n",
       "      <th>0</th>\n",
       "    </tr>\n",
       "  </thead>\n",
       "  <tbody>\n",
       "    <tr>\n",
       "      <th>Id</th>\n",
       "      <td>9021</td>\n",
       "    </tr>\n",
       "    <tr>\n",
       "      <th>Reputation</th>\n",
       "      <td>464987</td>\n",
       "    </tr>\n",
       "    <tr>\n",
       "      <th>CreationDate</th>\n",
       "      <td>2008-09-15 17:31:26</td>\n",
       "    </tr>\n",
       "    <tr>\n",
       "      <th>DisplayName</th>\n",
       "      <td>nickf</td>\n",
       "    </tr>\n",
       "    <tr>\n",
       "      <th>LastAccessDate</th>\n",
       "      <td>2019-12-16 22:41:23</td>\n",
       "    </tr>\n",
       "    <tr>\n",
       "      <th>WebsiteUrl</th>\n",
       "      <td>http://spadgos.github.io/</td>\n",
       "    </tr>\n",
       "    <tr>\n",
       "      <th>Location</th>\n",
       "      <td>Zürich, Switzerland</td>\n",
       "    </tr>\n",
       "    <tr>\n",
       "      <th>AboutMe</th>\n",
       "      <td>&lt;p&gt;Javascript nerd. Senior Software Engineer a...</td>\n",
       "    </tr>\n",
       "    <tr>\n",
       "      <th>Views</th>\n",
       "      <td>16993</td>\n",
       "    </tr>\n",
       "    <tr>\n",
       "      <th>UpVotes</th>\n",
       "      <td>2593</td>\n",
       "    </tr>\n",
       "    <tr>\n",
       "      <th>DownVotes</th>\n",
       "      <td>319</td>\n",
       "    </tr>\n",
       "    <tr>\n",
       "      <th>ProfileImageUrl</th>\n",
       "      <td>NaN</td>\n",
       "    </tr>\n",
       "    <tr>\n",
       "      <th>EmailHash</th>\n",
       "      <td>NaN</td>\n",
       "    </tr>\n",
       "    <tr>\n",
       "      <th>AccountId</th>\n",
       "      <td>5559</td>\n",
       "    </tr>\n",
       "  </tbody>\n",
       "</table>\n",
       "</div>"
      ],
      "text/plain": [
       "                                                                 0\n",
       "Id                                                            9021\n",
       "Reputation                                                  464987\n",
       "CreationDate                                   2008-09-15 17:31:26\n",
       "DisplayName                                                  nickf\n",
       "LastAccessDate                                 2019-12-16 22:41:23\n",
       "WebsiteUrl                               http://spadgos.github.io/\n",
       "Location                                       Zürich, Switzerland\n",
       "AboutMe          <p>Javascript nerd. Senior Software Engineer a...\n",
       "Views                                                        16993\n",
       "UpVotes                                                       2593\n",
       "DownVotes                                                      319\n",
       "ProfileImageUrl                                                NaN\n",
       "EmailHash                                                      NaN\n",
       "AccountId                                                     5559"
      ]
     },
     "execution_count": 158,
     "metadata": {},
     "output_type": "execute_result"
    }
   ],
   "source": [
    "users.head(1).transpose()"
   ]
  },
  {
   "cell_type": "markdown",
   "metadata": {},
   "source": [
    "#### Number of samples in dataset"
   ]
  },
  {
   "cell_type": "code",
   "execution_count": 161,
   "metadata": {},
   "outputs": [
    {
     "name": "stdout",
     "output_type": "stream",
     "text": [
      "There are 108 users with 14 features.\n"
     ]
    }
   ],
   "source": [
    "i = users.shape\n",
    "print('There are', i[0], 'users with', i[1], 'features.')"
   ]
  },
  {
   "cell_type": "code",
   "execution_count": 162,
   "metadata": {},
   "outputs": [
    {
     "data": {
      "text/html": [
       "<div>\n",
       "<style scoped>\n",
       "    .dataframe tbody tr th:only-of-type {\n",
       "        vertical-align: middle;\n",
       "    }\n",
       "\n",
       "    .dataframe tbody tr th {\n",
       "        vertical-align: top;\n",
       "    }\n",
       "\n",
       "    .dataframe thead th {\n",
       "        text-align: right;\n",
       "    }\n",
       "</style>\n",
       "<table border=\"1\" class=\"dataframe\">\n",
       "  <thead>\n",
       "    <tr style=\"text-align: right;\">\n",
       "      <th></th>\n",
       "      <th>count</th>\n",
       "      <th>mean</th>\n",
       "      <th>std</th>\n",
       "      <th>min</th>\n",
       "      <th>25%</th>\n",
       "      <th>50%</th>\n",
       "      <th>75%</th>\n",
       "      <th>max</th>\n",
       "    </tr>\n",
       "  </thead>\n",
       "  <tbody>\n",
       "    <tr>\n",
       "      <th>Id</th>\n",
       "      <td>108.0</td>\n",
       "      <td>321154.712963</td>\n",
       "      <td>629731.073190</td>\n",
       "      <td>267.0</td>\n",
       "      <td>22300.50</td>\n",
       "      <td>105286.5</td>\n",
       "      <td>280780.25</td>\n",
       "      <td>3832970.0</td>\n",
       "    </tr>\n",
       "    <tr>\n",
       "      <th>Reputation</th>\n",
       "      <td>108.0</td>\n",
       "      <td>491845.148148</td>\n",
       "      <td>171224.797635</td>\n",
       "      <td>323699.0</td>\n",
       "      <td>366319.50</td>\n",
       "      <td>433458.5</td>\n",
       "      <td>579305.00</td>\n",
       "      <td>1163680.0</td>\n",
       "    </tr>\n",
       "    <tr>\n",
       "      <th>Views</th>\n",
       "      <td>108.0</td>\n",
       "      <td>93265.824074</td>\n",
       "      <td>192077.494966</td>\n",
       "      <td>9096.0</td>\n",
       "      <td>33791.75</td>\n",
       "      <td>50124.0</td>\n",
       "      <td>86302.75</td>\n",
       "      <td>1905220.0</td>\n",
       "    </tr>\n",
       "    <tr>\n",
       "      <th>UpVotes</th>\n",
       "      <td>108.0</td>\n",
       "      <td>9040.462963</td>\n",
       "      <td>8430.048718</td>\n",
       "      <td>2.0</td>\n",
       "      <td>3366.75</td>\n",
       "      <td>6630.0</td>\n",
       "      <td>12451.75</td>\n",
       "      <td>52943.0</td>\n",
       "    </tr>\n",
       "    <tr>\n",
       "      <th>DownVotes</th>\n",
       "      <td>108.0</td>\n",
       "      <td>5337.314815</td>\n",
       "      <td>11321.339032</td>\n",
       "      <td>0.0</td>\n",
       "      <td>278.75</td>\n",
       "      <td>1057.0</td>\n",
       "      <td>4094.00</td>\n",
       "      <td>69355.0</td>\n",
       "    </tr>\n",
       "    <tr>\n",
       "      <th>EmailHash</th>\n",
       "      <td>0.0</td>\n",
       "      <td>NaN</td>\n",
       "      <td>NaN</td>\n",
       "      <td>NaN</td>\n",
       "      <td>NaN</td>\n",
       "      <td>NaN</td>\n",
       "      <td>NaN</td>\n",
       "      <td>NaN</td>\n",
       "    </tr>\n",
       "    <tr>\n",
       "      <th>AccountId</th>\n",
       "      <td>108.0</td>\n",
       "      <td>269277.370370</td>\n",
       "      <td>753982.206048</td>\n",
       "      <td>213.0</td>\n",
       "      <td>11534.50</td>\n",
       "      <td>36873.5</td>\n",
       "      <td>112759.75</td>\n",
       "      <td>4739783.0</td>\n",
       "    </tr>\n",
       "  </tbody>\n",
       "</table>\n",
       "</div>"
      ],
      "text/plain": [
       "            count           mean            std       min        25%  \\\n",
       "Id          108.0  321154.712963  629731.073190     267.0   22300.50   \n",
       "Reputation  108.0  491845.148148  171224.797635  323699.0  366319.50   \n",
       "Views       108.0   93265.824074  192077.494966    9096.0   33791.75   \n",
       "UpVotes     108.0    9040.462963    8430.048718       2.0    3366.75   \n",
       "DownVotes   108.0    5337.314815   11321.339032       0.0     278.75   \n",
       "EmailHash     0.0            NaN            NaN       NaN        NaN   \n",
       "AccountId   108.0  269277.370370  753982.206048     213.0   11534.50   \n",
       "\n",
       "                 50%        75%        max  \n",
       "Id          105286.5  280780.25  3832970.0  \n",
       "Reputation  433458.5  579305.00  1163680.0  \n",
       "Views        50124.0   86302.75  1905220.0  \n",
       "UpVotes       6630.0   12451.75    52943.0  \n",
       "DownVotes     1057.0    4094.00    69355.0  \n",
       "EmailHash        NaN        NaN        NaN  \n",
       "AccountId    36873.5  112759.75  4739783.0  "
      ]
     },
     "execution_count": 162,
     "metadata": {},
     "output_type": "execute_result"
    }
   ],
   "source": [
    "users.describe().transpose()"
   ]
  },
  {
   "cell_type": "markdown",
   "metadata": {},
   "source": [
    "### Users Reputation Distribution"
   ]
  },
  {
   "cell_type": "code",
   "execution_count": 163,
   "metadata": {},
   "outputs": [
    {
     "data": {
      "image/png": "[encoded data removed]",
      "text/plain": [
       "<Figure size 576x374.4 with 1 Axes>"
      ]
     },
     "metadata": {},
     "output_type": "display_data"
    }
   ],
   "source": [
    "plot = users[['Reputation']].plot.kde(title=\"Density-Plot of Reputation of Users\", \n",
    "                                              figsize=(8, 5.2), \n",
    "                                              xlim = (0, 1500000), \n",
    "                                              bw_method = 0.8)"
   ]
  },
  {
   "cell_type": "markdown",
   "metadata": {},
   "source": [
    "### Users View Count Distribution"
   ]
  },
  {
   "cell_type": "code",
   "execution_count": 164,
   "metadata": {},
   "outputs": [
    {
     "data": {
      "image/png": "[encoded data removed]",
      "text/plain": [
       "<Figure size 576x374.4 with 1 Axes>"
      ]
     },
     "metadata": {},
     "output_type": "display_data"
    }
   ],
   "source": [
    "plot = users[['Views']].plot.kde(title=\"Density-Plot of Views of Users\", \n",
    "                                 figsize=(8, 5.2), \n",
    "                                 xlim = (0, 800000), \n",
    "                                 bw_method = 0.8)"
   ]
  },
  {
   "cell_type": "markdown",
   "metadata": {},
   "source": [
    "### Users Upvotes Distribution"
   ]
  },
  {
   "cell_type": "code",
   "execution_count": 165,
   "metadata": {},
   "outputs": [
    {
     "data": {
      "image/png": "[encoded data removed]",
      "text/plain": [
       "<Figure size 576x374.4 with 1 Axes>"
      ]
     },
     "metadata": {},
     "output_type": "display_data"
    }
   ],
   "source": [
    "plot = users[['UpVotes']].plot.kde(title=\"Density-Plot of Upvotes of Users\", \n",
    "                                   figsize=(8, 5.2), \n",
    "                                   xlim = (0, 50000), \n",
    "                                   bw_method = 0.8)"
   ]
  },
  {
   "cell_type": "markdown",
   "metadata": {},
   "source": [
    "### Users Downvotes Distribution"
   ]
  },
  {
   "cell_type": "code",
   "execution_count": 166,
   "metadata": {},
   "outputs": [
    {
     "data": {
      "image/png": "[encoded data removed]",
      "text/plain": [
       "<Figure size 576x374.4 with 1 Axes>"
      ]
     },
     "metadata": {},
     "output_type": "display_data"
    }
   ],
   "source": [
    "plot = users[['DownVotes']].plot.kde(title=\"Density-Plot of Downvotes of Users\", \n",
    "                                     figsize=(8, 5.2), \n",
    "                                     xlim = (0, 60000), \n",
    "                                     bw_method = 0.8)"
   ]
  },
  {
   "cell_type": "markdown",
   "metadata": {},
   "source": [
    "## Badges Exploration"
   ]
  },
  {
   "cell_type": "code",
   "execution_count": 167,
   "metadata": {},
   "outputs": [],
   "source": [
    "badges = pd.read_csv('data/Badges.csv').drop(['Unnamed: 0'], 1)"
   ]
  },
  {
   "cell_type": "code",
   "execution_count": 168,
   "metadata": {},
   "outputs": [
    {
     "data": {
      "text/html": [
       "<div>\n",
       "<style scoped>\n",
       "    .dataframe tbody tr th:only-of-type {\n",
       "        vertical-align: middle;\n",
       "    }\n",
       "\n",
       "    .dataframe tbody tr th {\n",
       "        vertical-align: top;\n",
       "    }\n",
       "\n",
       "    .dataframe thead th {\n",
       "        text-align: right;\n",
       "    }\n",
       "</style>\n",
       "<table border=\"1\" class=\"dataframe\">\n",
       "  <thead>\n",
       "    <tr style=\"text-align: right;\">\n",
       "      <th></th>\n",
       "      <th>Id</th>\n",
       "      <th>UserId</th>\n",
       "      <th>Name</th>\n",
       "      <th>Date</th>\n",
       "      <th>Class</th>\n",
       "      <th>TagBased</th>\n",
       "    </tr>\n",
       "  </thead>\n",
       "  <tbody>\n",
       "    <tr>\n",
       "      <th>0</th>\n",
       "      <td>18343493</td>\n",
       "      <td>22656</td>\n",
       "      <td>Good Answer</td>\n",
       "      <td>2016-04-19 13:46:29</td>\n",
       "      <td>2</td>\n",
       "      <td>False</td>\n",
       "    </tr>\n",
       "    <tr>\n",
       "      <th>1</th>\n",
       "      <td>20650151</td>\n",
       "      <td>22656</td>\n",
       "      <td>Nice Answer</td>\n",
       "      <td>2016-10-18 12:25:41</td>\n",
       "      <td>3</td>\n",
       "      <td>False</td>\n",
       "    </tr>\n",
       "    <tr>\n",
       "      <th>2</th>\n",
       "      <td>20650211</td>\n",
       "      <td>6309</td>\n",
       "      <td>Nice Answer</td>\n",
       "      <td>2016-10-18 12:30:45</td>\n",
       "      <td>3</td>\n",
       "      <td>False</td>\n",
       "    </tr>\n",
       "    <tr>\n",
       "      <th>3</th>\n",
       "      <td>20650808</td>\n",
       "      <td>22656</td>\n",
       "      <td>Enlightened</td>\n",
       "      <td>2016-10-18 13:14:18</td>\n",
       "      <td>2</td>\n",
       "      <td>False</td>\n",
       "    </tr>\n",
       "    <tr>\n",
       "      <th>4</th>\n",
       "      <td>20652124</td>\n",
       "      <td>22656</td>\n",
       "      <td>Good Answer</td>\n",
       "      <td>2016-10-18 14:43:19</td>\n",
       "      <td>2</td>\n",
       "      <td>False</td>\n",
       "    </tr>\n",
       "    <tr>\n",
       "      <th>...</th>\n",
       "      <td>...</td>\n",
       "      <td>...</td>\n",
       "      <td>...</td>\n",
       "      <td>...</td>\n",
       "      <td>...</td>\n",
       "      <td>...</td>\n",
       "    </tr>\n",
       "    <tr>\n",
       "      <th>219720</th>\n",
       "      <td>29286882</td>\n",
       "      <td>17034</td>\n",
       "      <td>Good Answer</td>\n",
       "      <td>2018-08-22 06:50:26</td>\n",
       "      <td>2</td>\n",
       "      <td>False</td>\n",
       "    </tr>\n",
       "    <tr>\n",
       "      <th>219721</th>\n",
       "      <td>29288330</td>\n",
       "      <td>19068</td>\n",
       "      <td>Great Answer</td>\n",
       "      <td>2018-08-22 09:10:28</td>\n",
       "      <td>1</td>\n",
       "      <td>False</td>\n",
       "    </tr>\n",
       "    <tr>\n",
       "      <th>219722</th>\n",
       "      <td>29288723</td>\n",
       "      <td>157882</td>\n",
       "      <td>Nice Answer</td>\n",
       "      <td>2018-08-22 09:45:18</td>\n",
       "      <td>3</td>\n",
       "      <td>False</td>\n",
       "    </tr>\n",
       "    <tr>\n",
       "      <th>219723</th>\n",
       "      <td>29290738</td>\n",
       "      <td>157247</td>\n",
       "      <td>Good Answer</td>\n",
       "      <td>2018-08-22 12:25:08</td>\n",
       "      <td>2</td>\n",
       "      <td>False</td>\n",
       "    </tr>\n",
       "    <tr>\n",
       "      <th>219724</th>\n",
       "      <td>29291506</td>\n",
       "      <td>157882</td>\n",
       "      <td>Announcer</td>\n",
       "      <td>2018-08-22 13:25:18</td>\n",
       "      <td>3</td>\n",
       "      <td>False</td>\n",
       "    </tr>\n",
       "  </tbody>\n",
       "</table>\n",
       "<p>219725 rows × 6 columns</p>\n",
       "</div>"
      ],
      "text/plain": [
       "              Id  UserId          Name                 Date  Class  TagBased\n",
       "0       18343493   22656   Good Answer  2016-04-19 13:46:29      2     False\n",
       "1       20650151   22656   Nice Answer  2016-10-18 12:25:41      3     False\n",
       "2       20650211    6309   Nice Answer  2016-10-18 12:30:45      3     False\n",
       "3       20650808   22656   Enlightened  2016-10-18 13:14:18      2     False\n",
       "4       20652124   22656   Good Answer  2016-10-18 14:43:19      2     False\n",
       "...          ...     ...           ...                  ...    ...       ...\n",
       "219720  29286882   17034   Good Answer  2018-08-22 06:50:26      2     False\n",
       "219721  29288330   19068  Great Answer  2018-08-22 09:10:28      1     False\n",
       "219722  29288723  157882   Nice Answer  2018-08-22 09:45:18      3     False\n",
       "219723  29290738  157247   Good Answer  2018-08-22 12:25:08      2     False\n",
       "219724  29291506  157882     Announcer  2018-08-22 13:25:18      3     False\n",
       "\n",
       "[219725 rows x 6 columns]"
      ]
     },
     "execution_count": 168,
     "metadata": {},
     "output_type": "execute_result"
    }
   ],
   "source": [
    "badges"
   ]
  },
  {
   "cell_type": "markdown",
   "metadata": {},
   "source": [
    "#### Type of data"
   ]
  },
  {
   "cell_type": "code",
   "execution_count": 169,
   "metadata": {},
   "outputs": [
    {
     "data": {
      "text/plain": [
       "Id           int64\n",
       "UserId       int64\n",
       "Name        object\n",
       "Date        object\n",
       "Class        int64\n",
       "TagBased      bool\n",
       "dtype: object"
      ]
     },
     "execution_count": 169,
     "metadata": {},
     "output_type": "execute_result"
    }
   ],
   "source": [
    "badges.dtypes"
   ]
  },
  {
   "cell_type": "markdown",
   "metadata": {},
   "source": [
    "#### Size of each Sample"
   ]
  },
  {
   "cell_type": "code",
   "execution_count": 172,
   "metadata": {},
   "outputs": [
    {
     "data": {
      "text/html": [
       "<div>\n",
       "<style scoped>\n",
       "    .dataframe tbody tr th:only-of-type {\n",
       "        vertical-align: middle;\n",
       "    }\n",
       "\n",
       "    .dataframe tbody tr th {\n",
       "        vertical-align: top;\n",
       "    }\n",
       "\n",
       "    .dataframe thead th {\n",
       "        text-align: right;\n",
       "    }\n",
       "</style>\n",
       "<table border=\"1\" class=\"dataframe\">\n",
       "  <thead>\n",
       "    <tr style=\"text-align: right;\">\n",
       "      <th></th>\n",
       "      <th>0</th>\n",
       "    </tr>\n",
       "  </thead>\n",
       "  <tbody>\n",
       "    <tr>\n",
       "      <th>Id</th>\n",
       "      <td>18343493</td>\n",
       "    </tr>\n",
       "    <tr>\n",
       "      <th>UserId</th>\n",
       "      <td>22656</td>\n",
       "    </tr>\n",
       "    <tr>\n",
       "      <th>Name</th>\n",
       "      <td>Good Answer</td>\n",
       "    </tr>\n",
       "    <tr>\n",
       "      <th>Date</th>\n",
       "      <td>2016-04-19 13:46:29</td>\n",
       "    </tr>\n",
       "    <tr>\n",
       "      <th>Class</th>\n",
       "      <td>2</td>\n",
       "    </tr>\n",
       "    <tr>\n",
       "      <th>TagBased</th>\n",
       "      <td>False</td>\n",
       "    </tr>\n",
       "  </tbody>\n",
       "</table>\n",
       "</div>"
      ],
      "text/plain": [
       "                            0\n",
       "Id                   18343493\n",
       "UserId                  22656\n",
       "Name              Good Answer\n",
       "Date      2016-04-19 13:46:29\n",
       "Class                       2\n",
       "TagBased                False"
      ]
     },
     "execution_count": 172,
     "metadata": {},
     "output_type": "execute_result"
    }
   ],
   "source": [
    "badges.head(1).transpose()"
   ]
  },
  {
   "cell_type": "markdown",
   "metadata": {},
   "source": [
    "#### Number of samples in dataset"
   ]
  },
  {
   "cell_type": "code",
   "execution_count": 173,
   "metadata": {},
   "outputs": [
    {
     "name": "stdout",
     "output_type": "stream",
     "text": [
      "There are 219725 badges with 6 features.\n"
     ]
    }
   ],
   "source": [
    "i = badges.shape\n",
    "print('There are', i[0], 'badges with', i[1], 'features.')"
   ]
  },
  {
   "cell_type": "markdown",
   "metadata": {},
   "source": [
    "### Users Badges Distribution"
   ]
  },
  {
   "cell_type": "code",
   "execution_count": 174,
   "metadata": {},
   "outputs": [
    {
     "data": {
      "text/html": [
       "<div>\n",
       "<style scoped>\n",
       "    .dataframe tbody tr th:only-of-type {\n",
       "        vertical-align: middle;\n",
       "    }\n",
       "\n",
       "    .dataframe tbody tr th {\n",
       "        vertical-align: top;\n",
       "    }\n",
       "\n",
       "    .dataframe thead th {\n",
       "        text-align: right;\n",
       "    }\n",
       "</style>\n",
       "<table border=\"1\" class=\"dataframe\">\n",
       "  <thead>\n",
       "    <tr style=\"text-align: right;\">\n",
       "      <th></th>\n",
       "      <th>index</th>\n",
       "      <th>Name</th>\n",
       "      <th>type_count</th>\n",
       "    </tr>\n",
       "  </thead>\n",
       "  <tbody>\n",
       "    <tr>\n",
       "      <th>0</th>\n",
       "      <td>51</td>\n",
       "      <td>Nice Answer</td>\n",
       "      <td>85403</td>\n",
       "    </tr>\n",
       "    <tr>\n",
       "      <th>1</th>\n",
       "      <td>27</td>\n",
       "      <td>Enlightened</td>\n",
       "      <td>40163</td>\n",
       "    </tr>\n",
       "    <tr>\n",
       "      <th>2</th>\n",
       "      <td>36</td>\n",
       "      <td>Good Answer</td>\n",
       "      <td>30321</td>\n",
       "    </tr>\n",
       "    <tr>\n",
       "      <th>3</th>\n",
       "      <td>40</td>\n",
       "      <td>Guru</td>\n",
       "      <td>13982</td>\n",
       "    </tr>\n",
       "    <tr>\n",
       "      <th>4</th>\n",
       "      <td>38</td>\n",
       "      <td>Great Answer</td>\n",
       "      <td>6598</td>\n",
       "    </tr>\n",
       "    <tr>\n",
       "      <th>...</th>\n",
       "      <td>...</td>\n",
       "      <td>...</td>\n",
       "      <td>...</td>\n",
       "    </tr>\n",
       "    <tr>\n",
       "      <th>86</th>\n",
       "      <td>66</td>\n",
       "      <td>Research Assistant</td>\n",
       "      <td>10</td>\n",
       "    </tr>\n",
       "    <tr>\n",
       "      <th>87</th>\n",
       "      <td>6</td>\n",
       "      <td>Beta</td>\n",
       "      <td>8</td>\n",
       "    </tr>\n",
       "    <tr>\n",
       "      <th>88</th>\n",
       "      <td>72</td>\n",
       "      <td>Sheriff</td>\n",
       "      <td>7</td>\n",
       "    </tr>\n",
       "    <tr>\n",
       "      <th>89</th>\n",
       "      <td>22</td>\n",
       "      <td>Documentation Beta</td>\n",
       "      <td>4</td>\n",
       "    </tr>\n",
       "    <tr>\n",
       "      <th>90</th>\n",
       "      <td>53</td>\n",
       "      <td>Not a Robot</td>\n",
       "      <td>3</td>\n",
       "    </tr>\n",
       "  </tbody>\n",
       "</table>\n",
       "<p>91 rows × 3 columns</p>\n",
       "</div>"
      ],
      "text/plain": [
       "    index                Name  type_count\n",
       "0      51         Nice Answer       85403\n",
       "1      27         Enlightened       40163\n",
       "2      36         Good Answer       30321\n",
       "3      40                Guru       13982\n",
       "4      38        Great Answer        6598\n",
       "..    ...                 ...         ...\n",
       "86     66  Research Assistant          10\n",
       "87      6                Beta           8\n",
       "88     72             Sheriff           7\n",
       "89     22  Documentation Beta           4\n",
       "90     53         Not a Robot           3\n",
       "\n",
       "[91 rows x 3 columns]"
      ]
     },
     "execution_count": 174,
     "metadata": {},
     "output_type": "execute_result"
    }
   ],
   "source": [
    "user_badges = badges[badges['TagBased'] == False]\n",
    "user_badges = user_badges.groupby(['Name']).size().reset_index(name='type_count')\n",
    "user_badges = user_badges.sort_values(['type_count'], ascending=False).reset_index()\n",
    "\n",
    "user_badges"
   ]
  },
  {
   "cell_type": "code",
   "execution_count": 175,
   "metadata": {},
   "outputs": [
    {
     "data": {
      "image/png": "[encoded data removed]",
      "text/plain": [
       "<Figure size 1080x374.4 with 1 Axes>"
      ]
     },
     "metadata": {},
     "output_type": "display_data"
    }
   ],
   "source": [
    "plot = user_badges.head(25).plot.bar(title='Bar-Plot of Users Badges', \n",
    "                                     figsize=(15, 5.2), \n",
    "                                     x='Name', \n",
    "                                     y='type_count', \n",
    "                                     rot=90)"
   ]
  },
  {
   "cell_type": "markdown",
   "metadata": {},
   "source": [
    "## Analysis\n",
    "\n",
    "Perform some statistical analysis of the dataset to quantify it’s distribution. \n",
    "> As we can see in the plots above, most of our distributions follow *Power law distribution* because they are related to human behaviour. But users' reputation, questions score, and answer score seem to follow *Beta distribution*."
   ]
  },
  {
   "cell_type": "markdown",
   "metadata": {},
   "source": [
    "## Potential Problems\n",
    "\n",
    "Note any potential problems with the dataset\n",
    "\n",
    "> The Stack Overflow has millions of active users that create content on this platform. As a result, the datasets are enormous, and it is impossible to store them on PC RAMs. The first problem is how to deal with these datasets? The only solution is using Database to store them on HDDs, but these datasets are more massive than our HDDs. Consequently, we must use cloud base Database platforms like [Google Big Query](https://cloud.google.com/bigquery) and [Stack Exchange Data Explorer](https://data.stackexchange.com/stackoverflow/query/new). We choose SEDE because it is free. This platform enables us to retrieve a small chunk of datasets using SQL queries. We prune the data first by users who have the most contribution to this platform. After pruning the users, we try to find these users' activities and information. We solved this problem for now, but we eliminate lots of data that may lead to a decrease in the significance of our results or maybe affect the reliability of our results. If we can not manage to find a suitable model, we'll have to add more data from other types of users and retrain our model. However, these users have the best data quality among all of the users, so we hope that we can model real and unseen users and questions based on these selected users with the least possible error."
   ]
  },
  {
   "cell_type": "markdown",
   "metadata": {},
   "source": [
    "## Related dataset\n",
    "\n",
    "List any related public datasets that are similar to the one you will use. \n",
    "\n",
    "> Our dataset is publicly available [here](https://archive.org/details/stackexchange) which is in XML format. Another available dataset is [SOTorrent](https://empirical-software.engineering/projects/sotorrent/), but both are gigantic, and require to set up a database to work with this data."
   ]
  },
  {
   "cell_type": "markdown",
   "metadata": {},
   "source": [
    "#### Note\n",
    "\n",
    "Amirabbas Jalali and Mina Mousavifar have both contributed in this phase of the project, because we will use the same dataset for the same problem with different approaches."
   ]
  }
 ],
 "metadata": {
  "kernelspec": {
   "display_name": "Python 3",
   "language": "python",
   "name": "python3"
  },
  "language_info": {
   "codemirror_mode": {
    "name": "ipython",
    "version": 3
   },
   "file_extension": ".py",
   "mimetype": "text/x-python",
   "name": "python",
   "nbconvert_exporter": "python",
   "pygments_lexer": "ipython3",
   "version": "3.6.6"
  }
 },
 "nbformat": 4,
 "nbformat_minor": 2
}
